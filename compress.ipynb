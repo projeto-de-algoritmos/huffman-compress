{
 "cells": [
  {
   "cell_type": "markdown",
   "metadata": {},
   "source": [
    "# Huffman Compress\n",
    "\n",
    "Para testar o algoritmo de Huffman foram criados métodos para compactar e descompactar arquivos. \n",
    "\n",
    "O exemplo utilizado aqui é a compactação e descompactação de imagens do formato PPM e do formato PNG.\n",
    "\n",
    "Foi utilizado a seguinte imagem para testar a aplicação:\n",
    "\n",
    "![image](github.png)"
   ]
  },
  {
   "cell_type": "code",
   "execution_count": 1,
   "metadata": {},
   "outputs": [],
   "source": [
    "import heapq\n",
    "import os\n",
    "from functools import total_ordering"
   ]
  },
  {
   "cell_type": "code",
   "execution_count": 2,
   "metadata": {},
   "outputs": [],
   "source": [
    "@total_ordering\n",
    "class HeapNode:\n",
    "    def __init__(self, char, freq):\n",
    "        self.char = char\n",
    "        self.freq = freq\n",
    "        self.left = None\n",
    "        self.right = None\n",
    "\n",
    "    # defining comparators less_than and equals\n",
    "    def __lt__(self, other):\n",
    "        return self.freq < other.freq\n",
    "\n",
    "    def __eq__(self, other):\n",
    "        if(other == None):\n",
    "            return False\n",
    "        if(not isinstance(other, HeapNode)):\n",
    "            return False\n",
    "        return self.freq == other.freq"
   ]
  },
  {
   "cell_type": "code",
   "execution_count": 3,
   "metadata": {},
   "outputs": [],
   "source": [
    "class HuffmanCoding:\n",
    "    def __init__(self, path):\n",
    "        self.path = path\n",
    "        self.heap = []\n",
    "        self.codes = {}\n",
    "        self.reverse_mapping = {}\n",
    "\n",
    "    # functions for compression:\n",
    "\n",
    "    def make_frequency_dict(self, text):\n",
    "        frequency = {}\n",
    "        for character in text:\n",
    "            if not character in frequency:\n",
    "                frequency[character] = 0\n",
    "            frequency[character] += 1\n",
    "        return frequency\n",
    "\n",
    "    def make_heap(self, frequency):\n",
    "        for key in frequency:\n",
    "            node = HeapNode(key, frequency[key])\n",
    "            heapq.heappush(self.heap, node)\n",
    "\n",
    "    def merge_nodes(self):\n",
    "        while(len(self.heap)>1):\n",
    "            node1 = heapq.heappop(self.heap)\n",
    "            node2 = heapq.heappop(self.heap)\n",
    "\n",
    "            merged = HeapNode(None, node1.freq + node2.freq)\n",
    "            merged.left = node1\n",
    "            merged.right = node2\n",
    "\n",
    "            heapq.heappush(self.heap, merged)\n",
    "\n",
    "\n",
    "    def make_codes_helper(self, root, current_code):\n",
    "        if(root == None):\n",
    "            return\n",
    "\n",
    "        if(root.char != None):\n",
    "            self.codes[root.char] = current_code\n",
    "            self.reverse_mapping[current_code] = root.char\n",
    "            return\n",
    "\n",
    "        self.make_codes_helper(root.left, current_code + \"0\")\n",
    "        self.make_codes_helper(root.right, current_code + \"1\")\n",
    "\n",
    "\n",
    "    def make_codes(self):\n",
    "        root = heapq.heappop(self.heap)\n",
    "        current_code = \"\"\n",
    "        self.make_codes_helper(root, current_code)\n",
    "\n",
    "\n",
    "    def get_encoded_text(self, text):\n",
    "        encoded_text = \"\"\n",
    "        for character in text:\n",
    "            encoded_text += self.codes[character]\n",
    "        return encoded_text\n",
    "\n",
    "\n",
    "    def pad_encoded_text(self, encoded_text):\n",
    "        extra_padding = 8 - len(encoded_text) % 8\n",
    "        for i in range(extra_padding):\n",
    "            encoded_text += \"0\"\n",
    "\n",
    "        padded_info = \"{0:08b}\".format(extra_padding)\n",
    "        encoded_text = padded_info + encoded_text\n",
    "        return encoded_text\n",
    "\n",
    "\n",
    "    def get_byte_array(self, padded_encoded_text):\n",
    "        if(len(padded_encoded_text) % 8 != 0):\n",
    "            print(\"Encoded text not padded properly\")\n",
    "            exit(0)\n",
    "\n",
    "        b = bytearray()\n",
    "        for i in range(0, len(padded_encoded_text), 8):\n",
    "            byte = padded_encoded_text[i:i+8]\n",
    "            b.append(int(byte, 2))\n",
    "        return b\n",
    "\n",
    "\n",
    "    def compress(self):\n",
    "        filename, file_extension = os.path.splitext(self.path)\n",
    "        output_path = filename + \".bin\"\n",
    "\n",
    "        with open(self.path, 'r+') as file, open(output_path, 'wb') as output:\n",
    "            text = file.read()\n",
    "            text = text.rstrip()\n",
    "\n",
    "            frequency = self.make_frequency_dict(text)\n",
    "            self.make_heap(frequency)\n",
    "            self.merge_nodes()\n",
    "            self.make_codes()\n",
    "\n",
    "            encoded_text = self.get_encoded_text(text)\n",
    "            padded_encoded_text = self.pad_encoded_text(encoded_text)\n",
    "\n",
    "            b = self.get_byte_array(padded_encoded_text)\n",
    "            output.write(bytes(b))\n",
    "\n",
    "        print(\"Compressed\")\n",
    "        return output_path\n",
    "\n",
    "\n",
    "    \"\"\" functions for decompression: \"\"\"\n",
    "\n",
    "\n",
    "    def remove_padding(self, padded_encoded_text):\n",
    "        padded_info = padded_encoded_text[:8]\n",
    "        extra_padding = int(padded_info, 2)\n",
    "\n",
    "        padded_encoded_text = padded_encoded_text[8:] \n",
    "        encoded_text = padded_encoded_text[:-1*extra_padding]\n",
    "\n",
    "        return encoded_text\n",
    "\n",
    "    def decode_text(self, encoded_text):\n",
    "        current_code = \"\"\n",
    "        decoded_text = \"\"\n",
    "\n",
    "        for bit in encoded_text:\n",
    "            current_code += bit\n",
    "            if(current_code in self.reverse_mapping):\n",
    "                character = self.reverse_mapping[current_code]\n",
    "                decoded_text += character\n",
    "                current_code = \"\"\n",
    "\n",
    "        return decoded_text\n",
    "\n",
    "\n",
    "    def decompress(self, input_path):\n",
    "        filename, file_extension = os.path.splitext(self.path)\n",
    "        output_path = filename + \"_decompressed\" + \".ppm\"\n",
    "\n",
    "        with open(input_path, 'rb') as file, open(output_path, 'w') as output:\n",
    "            bit_string = \"\"\n",
    "\n",
    "            byte = file.read(1)\n",
    "            while(len(byte) > 0):\n",
    "                byte = ord(byte)\n",
    "                bits = bin(byte)[2:].rjust(8, '0')\n",
    "                bit_string += bits\n",
    "                byte = file.read(1)\n",
    "\n",
    "            encoded_text = self.remove_padding(bit_string)\n",
    "\n",
    "            decompressed_text = self.decode_text(encoded_text)\n",
    "\n",
    "            output.write(decompressed_text)\n",
    "\n",
    "        print(\"Decompressed\")\n",
    "        return output_path\n"
   ]
  },
  {
   "cell_type": "code",
   "execution_count": 4,
   "metadata": {},
   "outputs": [],
   "source": [
    "def convert_image_to_ppm(path):\n",
    "    file_name = path.split('.')[0]\n",
    "    os.system('convert ' + path + ' -compress none ' + file_name + '.ppm')\n",
    "    return file_name + '.ppm'"
   ]
  },
  {
   "cell_type": "code",
   "execution_count": 5,
   "metadata": {},
   "outputs": [],
   "source": [
    "def convert_image_to_png(path):\n",
    "    file_name = path.split('.')[0]\n",
    "    os.system('convert ' + file_name + '_decompressed.ppm' + ' -compress none ' + file_name + '_decompressed.png')\n",
    "    os.system('rm ' + path)\n",
    "    os.system('rm ' + file_name + '_decompressed.ppm')\n",
    "    return 'Converted'"
   ]
  },
  {
   "cell_type": "code",
   "execution_count": 6,
   "metadata": {},
   "outputs": [],
   "source": [
    "import sys\n",
    "\n",
    "path = \"lena.ppm\"\n",
    "\n",
    "h = HuffmanCoding(path)"
   ]
  },
  {
   "cell_type": "code",
   "execution_count": 7,
   "metadata": {
    "scrolled": true
   },
   "outputs": [
    {
     "name": "stdout",
     "output_type": "stream",
     "text": [
      "Compressed\n",
      "Compressed file path: lena.bin\n"
     ]
    }
   ],
   "source": [
    "output_path = h.compress()\n",
    "print(\"Compressed file path: \" + output_path)"
   ]
  },
  {
   "cell_type": "code",
   "execution_count": 8,
   "metadata": {},
   "outputs": [
    {
     "name": "stdout",
     "output_type": "stream",
     "text": [
      "Decompressed\n",
      "Decompressed file path: lena_decompressed.ppm\n"
     ]
    }
   ],
   "source": [
    "decom_path = h.decompress(output_path)\n",
    "print(\"Decompressed file path: \" + decom_path)"
   ]
  },
  {
   "cell_type": "code",
   "execution_count": 9,
   "metadata": {},
   "outputs": [
    {
     "name": "stdout",
     "output_type": "stream",
     "text": [
      "[]\n"
     ]
    }
   ],
   "source": [
    "print(h.heap)"
   ]
  },
  {
   "cell_type": "code",
   "execution_count": 10,
   "metadata": {},
   "outputs": [
    {
     "name": "stdout",
     "output_type": "stream",
     "text": [
      "{'1': '111', '2': '000', '\\n': '110001', '5': '0100', '9': '1101', ' ': '10', '8': '0110', '3': '0111', 'P': '110000', '7': '11001', '6': '0101', '4': '0010', '0': '0011'}\n"
     ]
    }
   ],
   "source": [
    "print(h.codes)"
   ]
  },
  {
   "cell_type": "code",
   "execution_count": 11,
   "metadata": {},
   "outputs": [
    {
     "name": "stdout",
     "output_type": "stream",
     "text": [
      "{'0011': '0', '11001': '7', '10': ' ', '0111': '3', '111': '1', '0010': '4', '0100': '5', '000': '2', '0101': '6', '110001': '\\n', '110000': 'P', '0110': '8', '1101': '9'}\n"
     ]
    }
   ],
   "source": [
    "print(h.reverse_mapping)"
   ]
  },
  {
   "cell_type": "code",
   "execution_count": 12,
   "metadata": {},
   "outputs": [
    {
     "name": "stdout",
     "output_type": "stream",
     "text": [
      "Compressed\n",
      "Compressed file path: github.bin\n",
      "Decompressed\n",
      "Decompressed file path: github_decompressed.ppm\n"
     ]
    }
   ],
   "source": [
    "path = 'github.png'\n",
    "\n",
    "path = convert_image_to_ppm(path)\n",
    "\n",
    "h = HuffmanCoding(path)\n",
    "\n",
    "output_path = h.compress()\n",
    "print(\"Compressed file path: \" + output_path)\n",
    "\n",
    "decom_path = h.decompress(output_path)\n",
    "print(\"Decompressed file path: \" + decom_path)"
   ]
  },
  {
   "cell_type": "code",
   "execution_count": 13,
   "metadata": {},
   "outputs": [
    {
     "data": {
      "text/plain": [
       "'Converted'"
      ]
     },
     "execution_count": 13,
     "metadata": {},
     "output_type": "execute_result"
    }
   ],
   "source": [
    "convert_image_to_png(path)"
   ]
  }
 ],
 "metadata": {
  "kernelspec": {
   "display_name": "Python 3",
   "language": "python",
   "name": "python3"
  },
  "language_info": {
   "codemirror_mode": {
    "name": "ipython",
    "version": 3
   },
   "file_extension": ".py",
   "mimetype": "text/x-python",
   "name": "python",
   "nbconvert_exporter": "python",
   "pygments_lexer": "ipython3",
   "version": "3.5.3"
  }
 },
 "nbformat": 4,
 "nbformat_minor": 2
}
